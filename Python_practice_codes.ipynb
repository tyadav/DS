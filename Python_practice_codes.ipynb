{
 "cells": [
  {
   "cell_type": "code",
   "execution_count": 2,
   "metadata": {},
   "outputs": [],
   "source": [
    "# Set an alarm\n",
    "\n",
    "import sched\n",
    "import time\n",
    "import winsound as ws\n",
    "\n",
    "def set_alarm(alarm_time, wav_file, message):\n",
    "    s = sched.scheduler(time.time, time.sleep)\n",
    "    s.enterabs(alarm_time, 1, print, argument=(message,))\n",
    "    s.enterabs(alarm_time, 1, ws.PlaySound, argument=(wav_file, ws.SND_FILENAME))\n",
    "    print('Alarm set for', time.asctime(time.localtime(alarm_time)))\n",
    "    s.run()"
   ]
  },
  {
   "cell_type": "code",
   "execution_count": 4,
   "metadata": {},
   "outputs": [],
   "source": [
    "# to run on command prompt\n",
    "#import time\n",
    "#from alarm import set_alarm\n",
    "#set_alarm(time.time()+1, 'alam.wav', 'wake up!')"
   ]
  },
  {
   "cell_type": "code",
   "execution_count": 4,
   "metadata": {},
   "outputs": [],
   "source": [
    "# send an email\n",
    "\n",
    "import smtplib\n",
    "\n",
    "SENDER_EMAIL = 'tej.yadav2307@gmail.com'\n",
    "SENDER_PASSWORD = 'ya@#$$%%^'\n",
    "\n",
    "def send_email(receiver_email, subject, body):\n",
    "    message = 'Subject: {}\\n\\n{}'.format(subject, body)\n",
    "    with smtplib.SMTP_SSL('smtp.gmail.com',465) as server:\n",
    "        server.login(SENDER_EMAIL, SENDER_PASSWORD)\n",
    "        server.sendmail(SENDER_EMAIL, receiver_email, message)"
   ]
  },
  {
   "cell_type": "code",
   "execution_count": 5,
   "metadata": {},
   "outputs": [],
   "source": [
    "# on cmd \n",
    "# from send_email import send_email\n",
    "# send_email('tej.yadav2307@gmail.com', 'Notification', 'Everything is Awesome!')"
   ]
  },
  {
   "cell_type": "code",
   "execution_count": 9,
   "metadata": {},
   "outputs": [],
   "source": [
    "# simulate dice\n",
    "\n",
    "from random import randint\n",
    "from collections import Counter\n",
    "\n",
    "def roll_dice(*dice, num_trials=1_000_000):\n",
    "    counts = Counter()\n",
    "    for roll in range(num_trials):\n",
    "        counts[sum((randint(1, ides) for sides in dice))] += 1\n",
    "        \n",
    "    print('\\nOUTCOME\\tPROBABILITY')\n",
    "    for outcome in range(len(dice), sum(dice)+1):\n",
    "        print('{}\\t{:0.2f}%'.format(outcome, counts[outcome]*100/num_trials))"
   ]
  },
  {
   "cell_type": "code",
   "execution_count": 12,
   "metadata": {},
   "outputs": [],
   "source": [
    "#roll_dice(4,6,6)\n",
    "#roll_dice(4,6,6,20)"
   ]
  },
  {
   "cell_type": "code",
   "execution_count": 13,
   "metadata": {},
   "outputs": [],
   "source": [
    "# Count unique words\n",
    "\n",
    "import re\n",
    "from collections import Counter\n",
    "\n",
    "def count_words(path):\n",
    "    with open(path, encoding='utf-8') as file:\n",
    "        all_words = re.findall(r\"[0-9a-zA-Z-']+\", file.read())\n",
    "        all_words = [word.upper() for word in all_words]\n",
    "        print('\\nTotal Words:', len(all_words))\n",
    "        \n",
    "        word_counts = Counter()\n",
    "        for word in all_words:\n",
    "            word_counts[word] += 1\n",
    "            \n",
    "        print('\\nTop 20 Words:')\n",
    "        for word in word_counts.most_common(20):\n",
    "            print(word[0], '\\t', word[1])        "
   ]
  },
  {
   "cell_type": "code",
   "execution_count": 14,
   "metadata": {},
   "outputs": [],
   "source": [
    "# from count_words import count_words\n",
    "# count_words('shakespeare.txt')"
   ]
  },
  {
   "cell_type": "code",
   "execution_count": null,
   "metadata": {},
   "outputs": [],
   "source": []
  }
 ],
 "metadata": {
  "kernelspec": {
   "display_name": "Python 3",
   "language": "python",
   "name": "python3"
  },
  "language_info": {
   "codemirror_mode": {
    "name": "ipython",
    "version": 3
   },
   "file_extension": ".py",
   "mimetype": "text/x-python",
   "name": "python",
   "nbconvert_exporter": "python",
   "pygments_lexer": "ipython3",
   "version": "3.7.6"
  }
 },
 "nbformat": 4,
 "nbformat_minor": 4
}
